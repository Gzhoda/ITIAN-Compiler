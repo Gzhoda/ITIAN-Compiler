{
 "cells": [
  {
   "cell_type": "code",
   "execution_count": 1,
   "metadata": {},
   "outputs": [
    {
     "name": "stdout",
     "output_type": "stream",
     "text": [
      "('I could eat bananas all day, bananas are my favorite fruit, and ofcourse my ', 'fruit', ' is superior cuz i get it from the ITIAN EVERYTHING STORE')\n",
      "('', '', 'I could eat bananas all day, bananas are my favorite fruit, and ofcourse my fruit is superior cuz i get it from the ITIAN EVERYTHING STORE')\n",
      "('I could eat bananas all day, bananas are my favorite fruit, and ofcourse my fruit is superior cuz i get ', 'i', 't from the ITIAN EVERYTHING STORE')\n",
      "('I could eat bananas all day, bananas are my favorite fruit, and ofcourse my fruit is superior cuz i get it from the ITIAN EVERYTHING ', 'STORE', '')\n"
     ]
    }
   ],
   "source": [
    "'''The rpartition() method searches for the last occurrence of a specified string, and splits the string into a tuple containing three elements.\n",
    "\n",
    "The first element contains the part before the specified string.\n",
    "\n",
    "The second element contains the specified string.\n",
    "\n",
    "The third element contains the part after the string.'''\n",
    "\n",
    "#string.rpartition(value)\n",
    "\n",
    "txt = \"I could eat bananas all day, bananas are my favorite fruit, and ofcourse my fruit is superior cuz i get it from the ITIAN EVERYTHING STORE\"\n",
    "\n",
    "\n",
    "x = txt.rpartition(\"fruit\")\n",
    "y = txt.rpartition(\"apples\")\n",
    "z = txt.rpartition(\"i\")\n",
    "a = txt.rpartition(\"STORE\")\n",
    "\n",
    "print(x)\n",
    "print(y)\n",
    "print(z)\n",
    "print(a)\n"
   ]
  },
  {
   "cell_type": "code",
   "execution_count": 19,
   "metadata": {},
   "outputs": [
    {
     "name": "stdout",
     "output_type": "stream",
     "text": [
      "Thank you for the music\n",
      "Welcome to the jungle\n",
      "hell ya\n",
      "\n",
      "['Thank you for the music', 'Welcome to the jungle', 'hell ya']\n"
     ]
    }
   ],
   "source": [
    "#The splitlines() method splits a string into a list. The splitting is done at line breaks.\n",
    "\n",
    "#string.splitlines(keeplinebreaks)\n",
    "\n",
    "txt = \"Thank you for the music\\nWelcome to the jungle\\nhell ya\\n\"\n",
    "print(txt)\n",
    "x = txt.splitlines()\n",
    "\n",
    "print(x)"
   ]
  },
  {
   "cell_type": "code",
   "execution_count": 26,
   "metadata": {},
   "outputs": [
    {
     "name": "stdout",
     "output_type": "stream",
     "text": [
      "16\n",
      "0\n",
      "0\n",
      "0\n"
     ]
    }
   ],
   "source": [
    "def set_bit(bitno,value):\n",
    "    shifter= 1<<bitno\n",
    "    value=value|shifter\n",
    "    return value\n",
    "def clear_bit(bitno,value):\n",
    "    shifter= 1<<bitno\n",
    "    shifter=~shifter\n",
    "    value=value&shifter\n",
    "    return value\n",
    "def Toggle_bit(bitno,value):\n",
    "    shifter= 1<<bitno\n",
    "    value=value^shifter\n",
    "    return value\n",
    "def Get_bit(bitno,value):\n",
    "    value=(value>>bitno)&1 \n",
    "    return value \n",
    "\n",
    "print(set_bit(4,0))\n",
    "print(clear_bit(4,16))\n",
    "print(Toggle_bit(4,16))\n",
    "print(Get_bit(4,7))"
   ]
  },
  {
   "cell_type": "code",
   "execution_count": 1,
   "metadata": {},
   "outputs": [
    {
     "name": "stdout",
     "output_type": "stream",
     "text": [
      "Why did the chicken cross the playground? To get to the other slide.\n",
      "Why couldn’t the chicken cross the road? Because she was chicken\n",
      "Why didn’t the chicken cross the road? Because there was a KFC on the other side\n"
     ]
    }
   ],
   "source": [
    "from tkinter import *\n",
    "\n",
    "    \n",
    "def openNewWindow():\n",
    "     \n",
    "    # Toplevel object which will\n",
    "    # be treated as a new window\n",
    "    newWindow = Toplevel(window_1)\n",
    "    window_1.close()\n",
    "    # sets the title of the\n",
    "    # Toplevel widget\n",
    "    newWindow.title(\"New Window\")\n",
    " \n",
    "    # sets the geometry of toplevel\n",
    "    newWindow.geometry(\"200x200\")\n",
    " \n",
    "    # A Label widget to show in toplevel\n",
    "    Label(newWindow,\n",
    "          text =\"This is a new window\").pack()\n",
    "    b1 = Button(newWindow,text=\"1\",bd='5',background = 'green',fg='white',command= window_1.destroy)\n",
    "    b2 = Button(newWindow,text=\"2\",bd='5',background = 'green',fg='white',command= window_1.destroy)\n",
    "    b3 = Button(newWindow,text=\"3\",bd='5',background = 'green',fg='white',command= window_1.destroy)\n",
    "    b4 = Button(newWindow,text=\"4\",bd='5',background = 'green',fg='white',command= window_1.destroy)\n",
    "    b5 = Button(newWindow,text=\"5\",bd='5',background = 'green',fg='white',command= window_1.destroy)\n",
    "    b6 = Button(newWindow,text=\"6\",bd='5',background = 'green',fg='white',command= window_1.destroy)\n",
    "    b7 = Button(newWindow,text=\"7\",bd='5',background = 'green',fg='white',command= window_1.destroy)\n",
    "    b8 = Button(newWindow,text=\"8\",bd='5',background = 'green',fg='white',command= window_1.destroy)\n",
    "    b9 = Button(newWindow,text=\"9\",bd='5',background = 'green',fg='white',command= window_1.destroy)\n",
    "    b10 = Button(newWindow,text=\"10\",bd='5',background = 'green',fg='white',command= window_1.destroy)\n",
    "    b11 = Button(newWindow,text=\"11\",bd='5',background = 'green',fg='white',command= window_1.destroy)\n",
    "    b12= Button(newWindow,text=\"12\",bd='5',background = 'green',fg='white',command= window_1.destroy)\n",
    "    b13 = Button(newWindow,text=\"13\",bd='5',background = 'green',fg='white',command= window_1.destroy)\n",
    "    b14 = Button(newWindow,text=\"14\",bd='5',background = 'green',fg='white',command= window_1.destroy)\n",
    "    b15 = Button(newWindow,text=\"15\",bd='5',background = 'green',fg='white',command= window_1.destroy)\n",
    "    b16 = Button(newWindow,text=\"16\",bd='5',background = 'green',fg='white',command= window_1.destroy)\n",
    "    b1.place(x=100,y=100)\n",
    "    b2.place(x=100,y=200)\n",
    "    b3.place(x=100,y=300)\n",
    "    b4.place(x=100,y=400)\n",
    "    b5.place(x=200,y=100)\n",
    "    b6.place(x=200,y=200)\n",
    "    b7.place(x=200,y=300)\n",
    "    b8.place(x=200,y=400)\n",
    "    b9.place(x=300,y=100)\n",
    "    b10.place(x=300,y=200)\n",
    "    b11.place(x=300,y=300)\n",
    "    b12.place(x=300,y=400)\n",
    "    b13.place(x=400,y=100)\n",
    "    b14.place(x=400,y=200)\n",
    "    b15.place(x=400,y=300)\n",
    "    b16.place(x=400,y=400)\n",
    "    \n",
    "def press_tracker():\n",
    "    global counter\n",
    "    print(\"You pressed \"+str(counter))\n",
    "    counter+=1\n",
    "def name():\n",
    "    print(\"I AM THE ONE WHO KNOCKS, and my name is Mahmoud\")\n",
    "\n",
    "def joker():\n",
    "    global flag\n",
    "    \n",
    "    if flag==1:\n",
    "        print(\"Why did the chicken cross the playground? To get to the other slide.\")\n",
    "    elif flag==2:\n",
    "        print(\"Why couldn’t the chicken cross the road? Because she was chicken\")    \n",
    "    elif flag==3:\n",
    "        print(\"Why didn’t the chicken cross the road? Because there was a KFC on the other side\")\n",
    "    flag+=1\n",
    "    \n",
    "window_1 =Tk()\n",
    "counter = 1\n",
    "flag=1\n",
    "window_1.configure(bg='teal') \n",
    "window_1.title(\"Hello from Tkinter\")\n",
    "label_1 = Label(window_1,text=\"Alaa Lab\",font=('Comic Sans',15))\n",
    "window_1.geometry('1080x680')\n",
    "photo =PhotoImage(file ='R.png')\n",
    "photo=photo.subsample(7,7)\n",
    "b1 = Button(window_1,text=\"Exit\",bd='5',background = 'green',fg='teal',command= window_1.destroy)\n",
    "b2 = Button(window_1,text=\"TRACKER\", font=(\"Consolas 30 bold\"),background = 'green',fg='red',bd='20',command=press_tracker)\n",
    "b3 = Button(window_1, bd = '5', image = photo,background = 'snow',command=joker)\n",
    "b4 = Button(window_1,text=\"SAY MY NAME\", bd = '5',background = 'indian red',fg='NavajoWhite2',command=name)\n",
    "btn = Button(window_1,text =\"Click to open a new window\",command = openNewWindow)\n",
    "b1.pack(side=TOP)\n",
    "b2.pack(side=LEFT)\n",
    "b3.pack(side=RIGHT)\n",
    "b4.pack(side=BOTTOM)\n",
    "btn.place(x=200,y=200)\n",
    "label_1.pack(side=BOTTOM)\n",
    "\n",
    "\n",
    "window_1.mainloop()"
   ]
  },
  {
   "cell_type": "code",
   "execution_count": null,
   "metadata": {},
   "outputs": [],
   "source": [
    "\n",
    "def press_tracker():\n",
    "    global counter\n",
    "    print(\"You pressed \"+str(counter))\n",
    "    counter+=1\n",
    "def name():\n",
    "    print(\"I AM THE ONE WHO KNOCKS, and my name is Mahmoud\")\n",
    "\n",
    "def joker():\n",
    "    global flag\n",
    "    \n",
    "    if flag==1:\n",
    "        print(\"Why did the chicken cross the playground? To get to the other slide.\")\n",
    "    elif flag==2:\n",
    "        print(\"Why couldn’t the chicken cross the road? Because she was chicken\")    \n",
    "    elif flag==3:\n",
    "        print(\"Why didn’t the chicken cross the road? Because there was a KFC on the other side\")\n",
    "    flag+=1\n",
    "    \n",
    "window_1 =Tk()\n",
    "counter = 1\n",
    "flag=1\n",
    "window_1.configure(bg='teal') \n",
    "window_1.title(\"Hello from Tkinter\")\n",
    "label_1 = Label(window_1,text=\"Alaa Lab\",font=('Comic Sans',15))\n",
    "window_1.geometry('1080x680')\n",
    "photo =PhotoImage(file ='R.png')\n",
    "photo=photo.subsample(7,7)\n",
    "b1 = Button(window_1,text=\"Exit\",bd='5',background = 'green',fg='teal',command= window_1.destroy)\n",
    "b2 = Button(window_1,text=\"TRACKER\", font=(\"Consolas 30 bold\"),background = 'green',fg='red',bd='20',command=press_tracker)\n",
    "b3 = Button(window_1, bd = '5', image = photo,background = 'snow',command=joker)\n",
    "b4 = Button(window_1,text=\"SAY MY NAME\", bd = '5',background = 'indian red',fg='NavajoWhite2',command=name)\n",
    "btn = Button(window_1,text =\"Click to open a new window\",command = openNewWindow)\n",
    "b1.pack(side=TOP)\n",
    "b2.pack(side=LEFT)\n",
    "b3.pack(side=RIGHT)\n",
    "b4.pack(side=BOTTOM)\n",
    "btn.place(x=200,y=200)\n",
    "label_1.pack(side=BOTTOM)\n",
    "\n",
    "\n",
    "window_1.mainloop()"
   ]
  }
 ],
 "metadata": {
  "kernelspec": {
   "display_name": "Python 3",
   "language": "python",
   "name": "python3"
  },
  "language_info": {
   "codemirror_mode": {
    "name": "ipython",
    "version": 3
   },
   "file_extension": ".py",
   "mimetype": "text/x-python",
   "name": "python",
   "nbconvert_exporter": "python",
   "pygments_lexer": "ipython3",
   "version": "3.11.1 (tags/v3.11.1:a7a450f, Dec  6 2022, 19:58:39) [MSC v.1934 64 bit (AMD64)]"
  },
  "vscode": {
   "interpreter": {
    "hash": "5238573367df39f7286bb46f9ff5f08f63a01a80960060ce41e3c79b190280fa"
   }
  }
 },
 "nbformat": 4,
 "nbformat_minor": 2
}
